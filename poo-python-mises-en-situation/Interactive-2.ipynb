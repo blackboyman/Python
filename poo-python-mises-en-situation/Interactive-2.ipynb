{
 "cells": [
  {
   "cell_type": "code",
   "execution_count": 25,
   "metadata": {},
   "outputs": [
    {
     "name": "stdout",
     "output_type": "stream",
     "text": [
      "Bonjour, je suis un chat et je m'appelle inconnu\n",
      "Bonjour, je suis un chat et je m'appelle Garfield\n",
      "Bonjour, je suis une personne et je m'appelle Jean\n"
     ]
    }
   ],
   "source": [
    "# POO EXERCICE DE MISE EN SITUATION 3\n",
    "\n",
    "# ---\n",
    "class Chat:\n",
    "    def __init__(self):\n",
    "        self.nom = \"inconnu\"\n",
    "    \n",
    "    def SePresenter(self, nom_facultatif=\"\"):    \n",
    "        if nom_facultatif ==\"\":\n",
    "            self.nom\n",
    "        else:\n",
    "            self.nom = nom_facultatif\n",
    "        print(\"Bonjour, je suis un chat et je m'appelle \" + self.nom)\n",
    "\n",
    "# ---\n",
    "class Personne:\n",
    "    def __init__(self, nom: str):\n",
    "        self.nom = nom\n",
    "\n",
    "    def SePresenter(self):\n",
    "        print(\"Bonjour, je suis une personne et je m'appelle \" + self.nom)\n",
    "\n",
    "# ---\n",
    "chat1 = Chat()\n",
    "chat1.SePresenter()  # Bonjour, je suis un chat et je m'appelle inconnu\n",
    "\n",
    "chat2 = Chat()\n",
    "chat2.SePresenter(\"Garfield\")  # Bonjour, je suis un chat et je m'appelle Garfield\n",
    "\n",
    "personne1 = Personne(\"Jean\")\n",
    "personne1.SePresenter()  # Bonjour, je suis une personne et je m'appelle Jean"
   ]
  },
  {
   "cell_type": "code",
   "execution_count": 26,
   "metadata": {},
   "outputs": [
    {
     "ename": "NameError",
     "evalue": "name 'nom_facultati' is not defined",
     "output_type": "error",
     "traceback": [
      "\u001b[1;31m---------------------------------------------------------------------------\u001b[0m",
      "\u001b[1;31mNameError\u001b[0m                                 Traceback (most recent call last)",
      "\u001b[1;32mblackboyman\\Python\\poo-python-mises-en-situation\\poo-mise-en-situation-3.py\u001b[0m in \u001b[0;36mline 25\n\u001b[0;32m     <a href='vscode-vfs://github/blackboyman/Python/poo-python-mises-en-situation/poo-mise-en-situation-3.py?line=22'>23</a>\u001b[0m \u001b[39m# ---\u001b[39;00m\n\u001b[0;32m     <a href='vscode-vfs://github/blackboyman/Python/poo-python-mises-en-situation/poo-mise-en-situation-3.py?line=23'>24</a>\u001b[0m chat1 \u001b[39m=\u001b[39m Chat()\n\u001b[1;32m---> <a href='vscode-vfs://github/blackboyman/Python/poo-python-mises-en-situation/poo-mise-en-situation-3.py?line=24'>25</a>\u001b[0m chat1\u001b[39m.\u001b[39;49mSePresenter()  \u001b[39m# Bonjour, je suis un chat et je m'appelle inconnu\u001b[39;00m\n\u001b[0;32m     <a href='vscode-vfs://github/blackboyman/Python/poo-python-mises-en-situation/poo-mise-en-situation-3.py?line=26'>27</a>\u001b[0m chat2 \u001b[39m=\u001b[39m Chat()\n\u001b[0;32m     <a href='vscode-vfs://github/blackboyman/Python/poo-python-mises-en-situation/poo-mise-en-situation-3.py?line=27'>28</a>\u001b[0m chat2\u001b[39m.\u001b[39mSePresenter(\u001b[39m\"\u001b[39m\u001b[39mGarfield\u001b[39m\u001b[39m\"\u001b[39m)  \u001b[39m# Bonjour, je suis un chat et je m'appelle Garfield\u001b[39;00m\n",
      "\u001b[1;32mblackboyman\\Python\\poo-python-mises-en-situation\\poo-mise-en-situation-3.py\u001b[0m in \u001b[0;36mline 9\u001b[0m, in \u001b[0;36mChat.SePresenter\u001b[1;34m(self, nom_facultatif)\n\u001b[0;32m      <a href='vscode-vfs://github/blackboyman/Python/poo-python-mises-en-situation/poo-mise-en-situation-3.py?line=7'>8</a>\u001b[0m \u001b[39mdef\u001b[39;00m \u001b[39mSePresenter\u001b[39m(\u001b[39mself\u001b[39m, nom_facultatif\u001b[39m=\u001b[39m\u001b[39m\"\u001b[39m\u001b[39m\"\u001b[39m):    \n\u001b[1;32m----> <a href='vscode-vfs://github/blackboyman/Python/poo-python-mises-en-situation/poo-mise-en-situation-3.py?line=8'>9</a>\u001b[0m     \u001b[39mif\u001b[39;00m nom_facultati \u001b[39m==\u001b[39m\u001b[39m\"\u001b[39m\u001b[39m\"\u001b[39m:\n\u001b[0;32m     <a href='vscode-vfs://github/blackboyman/Python/poo-python-mises-en-situation/poo-mise-en-situation-3.py?line=9'>10</a>\u001b[0m         \u001b[39mself\u001b[39m\u001b[39m.\u001b[39mnom\n\u001b[0;32m     <a href='vscode-vfs://github/blackboyman/Python/poo-python-mises-en-situation/poo-mise-en-situation-3.py?line=10'>11</a>\u001b[0m     \u001b[39melse\u001b[39;00m:\n",
      "\u001b[1;31mNameError\u001b[0m: name 'nom_facultati' is not defined"
     ]
    }
   ],
   "source": [
    "# POO EXERCICE DE MISE EN SITUATION 3\n",
    "\n",
    "# ---\n",
    "class Chat:\n",
    "    def __init__(self):\n",
    "        self.nom = \"inconnu\"\n",
    "    \n",
    "    def SePresenter(self, nom_facultatif=\"\"):    \n",
    "        if nom_facultati ==\"\":\n",
    "            self.nom\n",
    "        else:\n",
    "            self.nom = nom_facultatif\n",
    "        print(\"Bonjour, je suis un chat et je m'appelle \" + self.nom)\n",
    "\n",
    "# ---\n",
    "class Personne:\n",
    "    def __init__(self, nom: str):\n",
    "        self.nom = nom\n",
    "\n",
    "    def SePresenter(self):\n",
    "        print(\"Bonjour, je suis une personne et je m'appelle \" + self.nom)\n",
    "\n",
    "# ---\n",
    "chat1 = Chat()\n",
    "chat1.SePresenter()  # Bonjour, je suis un chat et je m'appelle inconnu\n",
    "\n",
    "chat2 = Chat()\n",
    "chat2.SePresenter(\"Garfield\")  # Bonjour, je suis un chat et je m'appelle Garfield\n",
    "\n",
    "personne1 = Personne(\"Jean\")\n",
    "personne1.SePresenter()  # Bonjour, je suis une personne et je m'appelle Jean"
   ]
  }
 ],
 "metadata": {
  "kernelspec": {
   "display_name": "Python 3",
   "language": "python",
   "name": "python3"
  },
  "language_info": {
   "name": "python",
   "version": "3.10.4"
  }
 },
 "nbformat": 4,
 "nbformat_minor": 2
}
